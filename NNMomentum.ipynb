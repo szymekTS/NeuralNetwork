{
 "cells": [
  {
   "cell_type": "code",
   "execution_count": 1,
   "metadata": {
    "pycharm": {
     "is_executing": false
    }
   },
   "outputs": [],
   "source": [
    "import numpy as np\n",
    "import scipy.special\n",
    "from timeit import default_timer as timer\n",
    "import matplotlib.pyplot as plt\n",
    "%matplotlib inline"
   ]
  },
  {
   "cell_type": "code",
   "execution_count": 2,
   "metadata": {
    "pycharm": {
     "is_executing": false
    }
   },
   "outputs": [],
   "source": [
    "class neuralNetwork:\n",
    "    \n",
    "    # iniacjalizacja sieci neuronowej\n",
    "    def __init__(self, inputNodes, hiddenNodes, outputNodes, learningRate, momentum):\n",
    "        # ustawienie liczby neuronów w każdej z warstw\n",
    "        self.iNodes = inputNodes\n",
    "        self.hNodes = hiddenNodes\n",
    "        self.oNodes = outputNodes\n",
    "        \n",
    "        # ustawienie współczynnika uczenia\n",
    "        self.lr = learningRate\n",
    "        # ustawienie współcznnoka momentum\n",
    "        self.mom = momentum\n",
    "        \n",
    "        #losowanie wag\n",
    "        self.wih = np.random.normal(0.0, pow(self.iNodes, -0.5),(self.hNodes, self.iNodes))\n",
    "        self.who = np.random.normal(0.0, pow(self.hNodes, -0.5), (self.oNodes, self.hNodes))\n",
    "        \n",
    "        #funkcja aktywacji - sigmoid\n",
    "        self.activation_fun = lambda x: scipy.special.expit(x)\n",
    "        \n",
    "        self.prev_delta_who = 0\n",
    "        self.prev_delta_wih = 0\n",
    "        \n",
    "        \n",
    "    # metoda ucząca\n",
    "    def train(self, input_list, targets_list):\n",
    "        # zamiana list na macierz 2d\n",
    "        inputs = np.array(input_list, ndmin=2).T\n",
    "        targets = np.array(targets_list, ndmin=2).T\n",
    "        \n",
    "        # obliczanie sygnału do warstwy ukrytej\n",
    "        hidden_inputs = np.dot(self.wih,inputs)\n",
    "        # obliczanie sygnału wychodzącego z warstwy ukrytej\n",
    "        hidden_outputs = self.activation_fun(hidden_inputs)\n",
    "        \n",
    "        # obliczanie sygnału do warstwy wyjściowej\n",
    "        final_inputs =  np.dot(self.who, hidden_outputs)\n",
    "        # obliczanie sygnału wychodzącego z warstwy wyjściowej\n",
    "        final_outputs = self.activation_fun(final_inputs)\n",
    "        \n",
    "        # oblicznie błędu warstwy wyjściowej (target - actual)\n",
    "        output_err = targets - final_outputs\n",
    "        # błąd warstwy ukrytej to błąd wyjściowy rozdzielony przez wartość wagi\n",
    "        hidden_err = np.dot(self.who.T, output_err)\n",
    "        \n",
    "        # obliczanie delty wag miedzy warstwą ukrytą, a wyjściem\n",
    "        delta_who = self.lr * np.dot((output_err * final_outputs * (1.0 - final_outputs)), np.transpose(hidden_outputs))\n",
    "        # aktualizacja delty wag miedzy wejściem, a warstwą ukrytą\n",
    "        delta_wih = self.lr * np.dot((hidden_err * hidden_outputs * (1.0 - hidden_outputs)), np.transpose(inputs))\n",
    "        \n",
    "        # aktualizacja wag miedzy warstwą ukrytą, a wyjściem\n",
    "        self.who += delta_who + ( self.mom *  self.prev_delta_who)\n",
    "        # aktualizacja wag miedzy wejściem, a warstwą ukrytą\n",
    "        self.wih += delta_wih + ( self.mom * self.prev_delta_wih)\n",
    "        \n",
    "        # aktualizacja delty wag miedzy warstwą ukrytą, a wyjściem\n",
    "        self.prev_delta_who = delta_who\n",
    "        self.prev_delta_wih = delta_wih\n",
    "        # aktualizacja delty wag miedzy wejściem, a warstwą ukrytą\n",
    "        pass\n",
    "    \n",
    "    # metoda odpowiadająca\n",
    "    def querry(self, inputs_list):\n",
    "        # zamiana listy wejść na macierz 2d\n",
    "        inputs = np.array(inputs_list, ndmin=2).T\n",
    "        \n",
    "        # obliczanie sygnału do warstwy ukrytej\n",
    "        hidden_inputs = np.dot(self.wih,inputs)\n",
    "        # obliczanie sygnału wychodzącego z warstwy ukrytej\n",
    "        hidden_outputs = self.activation_fun(hidden_inputs)\n",
    "        \n",
    "        # obliczanie sygnału do warstwy wyjściowej\n",
    "        final_inputs =  np.dot(self.who, hidden_outputs)\n",
    "        # obliczanie sygnału wychodzącego z warstwy wyjściowej\n",
    "        final_outputs = self.activation_fun(final_inputs)\n",
    "        return final_outputs"
   ]
  },
  {
   "cell_type": "code",
   "execution_count": 3,
   "metadata": {
    "pycharm": {
     "is_executing": false
    }
   },
   "outputs": [
    {
     "name": "stdout",
     "output_type": "stream",
     "text": [
      "Epoka:  138000  Blad: [[0.00049692]]\n",
      "Time:  5.0812193\n",
      "Actual: [[0.02706707]]  Target:  0\n",
      "Actual: [[0.97863713]]  Target:  1\n",
      "Actual: [[0.01650197]]  Target:  0\n",
      "Actual: [[0.97705696]]  Target:  1\n"
     ]
    },
    {
     "data": {
      "image/png": "[encoded data removed]",
      "text/plain": [
       "<Figure size 432x288 with 1 Axes>"
      ]
     },
     "metadata": {
      "needs_background": "light"
     },
     "output_type": "display_data"
    }
   ],
   "source": [
    "import random\n",
    "\n",
    "input_list = [(0,0), (1,0), (1,1), (0,1)]\n",
    "output_list = [(0),(1), (0),(1) ]\n",
    "\n",
    "\n",
    "x= []\n",
    "y= []\n",
    "input_nodes = 2\n",
    "hidden_nodes = 4\n",
    "output_nodes = 1\n",
    "learning_rate = 0.1\n",
    "momentum = 0.8\n",
    "\n",
    "nn = neuralNetwork(input_nodes, hidden_nodes, output_nodes, learning_rate, momentum)\n",
    "blad = 0\n",
    "i= 0\n",
    "start = timer()\n",
    "while True:\n",
    "    w = random.randint(0,3)\n",
    "    nn.train(input_list[w], output_list[w])\n",
    "    if i%1000 == 0:\n",
    "        blad = 0\n",
    "        for z in range(4):\n",
    "            tmp = nn.querry(input_list[z]) - output_list[z]\n",
    "            blad +=  tmp*tmp\n",
    "#             print(\"Actual:\", nn.querry(input_list[z]),\" Target: \", output_list[z])\n",
    "        blad /=4\n",
    "        x.append((i))\n",
    "        y.append((float(blad)))\n",
    "    if blad < 0.0005:\n",
    "        print(\"Epoka: \", i , \" Blad:\", blad)\n",
    "        break\n",
    "    i+=1\n",
    "    \n",
    "print(\"Time: \", timer()-start) \n",
    "\n",
    "for i in range(4):\n",
    "    print(\"Actual:\", nn.querry(input_list[i%4]),\" Target: \", output_list[i%4])\n",
    "\n",
    "plt.plot(x,y,label=\"Uczące\")\n",
    "plt.ylabel(\"Błąd %\")\n",
    "plt.xlabel(\"Liczba epok\")\n",
    "plt.legend()\n",
    "plt.show()"
   ]
  }
 ],
 "metadata": {
  "kernelspec": {
   "display_name": "Python 3",
   "language": "python",
   "name": "python3"
  },
  "language_info": {
   "codemirror_mode": {
    "name": "ipython",
    "version": 3
   },
   "file_extension": ".py",
   "mimetype": "text/x-python",
   "name": "python",
   "nbconvert_exporter": "python",
   "pygments_lexer": "ipython3",
   "version": "3.7.3"
  },
  "pycharm": {
   "stem_cell": {
    "cell_type": "raw",
    "metadata": {
     "collapsed": false
    },
    "source": []
   }
  }
 },
 "nbformat": 4,
 "nbformat_minor": 4
}
